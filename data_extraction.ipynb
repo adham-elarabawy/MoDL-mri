{
 "cells": [
  {
   "cell_type": "code",
   "execution_count": 83,
   "metadata": {},
   "outputs": [
    {
     "name": "stdout",
     "output_type": "stream",
     "text": [
      "The autoreload extension is already loaded. To reload it, use:\n",
      "  %reload_ext autoreload\n"
     ]
    }
   ],
   "source": [
    "%matplotlib notebook\n",
    "# import pydicom as pyd\n",
    "import sigpy as sp\n",
    "import sigpy.mri as spm\n",
    "import sigpy.plot as pl\n",
    "import numpy as np\n",
    "# import cv2\n",
    "from subsample_fastmri import MaskFunc\n",
    "import os\n",
    "import h5py\n",
    "import bart\n",
    "import sigpy as sp\n",
    "# import torch_utils as flare\n",
    "# device = torch.device('cpu')\n",
    "# device = torch.device('cuda:1' if torch.cuda.is_available() else 'cpu')\n",
    "%load_ext autoreload\n",
    "%autoreload 2"
   ]
  },
  {
   "cell_type": "code",
   "execution_count": 84,
   "metadata": {},
   "outputs": [],
   "source": [
    "home_dir = os.listdir(\"/mikQNAP/NYU_knee_data/singlecoil_train/\")\n",
    "num_datasets = 17"
   ]
  },
  {
   "cell_type": "code",
   "execution_count": 85,
   "metadata": {},
   "outputs": [
    {
     "name": "stdout",
     "output_type": "stream",
     "text": [
      "processing data: 1\n",
      "processing data: 2\n",
      "processing data: 3\n",
      "processing data: 4\n",
      "processing data: 5\n",
      "processing data: 6\n",
      "processing data: 7\n",
      "processing data: 8\n",
      "processing data: 9\n",
      "processing data: 10\n",
      "processing data: 11\n",
      "processing data: 12\n",
      "processing data: 13\n",
      "processing data: 14\n",
      "processing data: 15\n",
      "processing data: 16\n",
      "processing data: 17\n"
     ]
    }
   ],
   "source": [
    "t = 0\n",
    "n = 0\n",
    "while 1:\n",
    "    f = h5py.File(\"/mikQNAP/NYU_knee_data/singlecoil_train/\"+home_dir[t],'r')\n",
    "    t+=1\n",
    "    kspace = np.array(f[\"kspace\"])   \n",
    "    if kspace.shape[-1] == 372:\n",
    "        n+=1\n",
    "        print(\"processing data: %d\"%(n))\n",
    "        im_ifft = sp.ifft(kspace,axes=(1,2))  \n",
    "        h5f = h5py.File('training_set_%d.h5'%(n), 'w')\n",
    "        h5f.create_dataset('kspace', data=kspace)\n",
    "        h5f.create_dataset('reconstruction', data=im_ifft)  \n",
    "        h5f.close()\n",
    "    if n == num_datasets:\n",
    "        break"
   ]
  }
 ],
 "metadata": {
  "kernelspec": {
   "display_name": "Python 3",
   "language": "python",
   "name": "python3"
  },
  "language_info": {
   "codemirror_mode": {
    "name": "ipython",
    "version": 3
   },
   "file_extension": ".py",
   "mimetype": "text/x-python",
   "name": "python",
   "nbconvert_exporter": "python",
   "pygments_lexer": "ipython3",
   "version": "3.6.8"
  },
  "varInspector": {
   "cols": {
    "lenName": 16,
    "lenType": 16,
    "lenVar": 40
   },
   "kernels_config": {
    "python": {
     "delete_cmd_postfix": "",
     "delete_cmd_prefix": "del ",
     "library": "var_list.py",
     "varRefreshCmd": "print(var_dic_list())"
    },
    "r": {
     "delete_cmd_postfix": ") ",
     "delete_cmd_prefix": "rm(",
     "library": "var_list.r",
     "varRefreshCmd": "cat(var_dic_list()) "
    }
   },
   "types_to_exclude": [
    "module",
    "function",
    "builtin_function_or_method",
    "instance",
    "_Feature"
   ],
   "window_display": false
  }
 },
 "nbformat": 4,
 "nbformat_minor": 4
}
